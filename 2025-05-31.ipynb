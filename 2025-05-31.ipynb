{
 "cells": [
  {
   "cell_type": "markdown",
   "id": "840de1c0-3f27-46a5-887e-166b13855016",
   "metadata": {},
   "source": [
    "#### Coding Dojo 17\n",
    "Odds and Evens to 32\n",
    "Simple for loop in python. Starting at 0."
   ]
  },
  {
   "cell_type": "code",
   "execution_count": 40,
   "id": "88bd5a2a-fbb9-4be2-a9c4-9d898f5f60db",
   "metadata": {},
   "outputs": [
    {
     "name": "stdout",
     "output_type": "stream",
     "text": [
      "0\n",
      "1\n",
      "2\n",
      "3\n",
      "4\n",
      "5\n",
      "6\n",
      "7\n",
      "8\n",
      "9\n",
      "10\n",
      "11\n",
      "12\n",
      "13\n",
      "14\n",
      "15\n",
      "16\n",
      "17\n",
      "18\n",
      "19\n",
      "20\n",
      "21\n",
      "22\n",
      "23\n",
      "24\n",
      "25\n",
      "26\n",
      "27\n",
      "28\n",
      "29\n",
      "30\n",
      "31\n",
      "32\n"
     ]
    }
   ],
   "source": [
    "for x in range(0,33):\n",
    "    print(x)"
   ]
  },
  {
   "cell_type": "markdown",
   "id": "fe157ed3-57f0-4871-8970-d43d67a1090b",
   "metadata": {},
   "source": [
    "#### print even numbers\n",
    "The % is modulo. If the remainder is equal to zero we know the number is even."
   ]
  },
  {
   "cell_type": "code",
   "execution_count": 41,
   "id": "5bea6461-bebf-45ba-b029-26cd7d911783",
   "metadata": {},
   "outputs": [
    {
     "name": "stdout",
     "output_type": "stream",
     "text": [
      "0\n",
      "2\n",
      "4\n",
      "6\n",
      "8\n",
      "10\n",
      "12\n",
      "14\n",
      "16\n",
      "18\n",
      "20\n",
      "22\n",
      "24\n",
      "26\n",
      "28\n",
      "30\n",
      "32\n"
     ]
    }
   ],
   "source": [
    "for x in range(0,33):\n",
    "    if x % 2 ==0:\n",
    "        print(x)"
   ]
  },
  {
   "cell_type": "markdown",
   "id": "d485843e-ec3e-4ddf-a5cf-a76c24ad4005",
   "metadata": {},
   "source": [
    "#### print odd numbers\n",
    "If the number is even don't do anything. If it's not print it."
   ]
  },
  {
   "cell_type": "code",
   "execution_count": 42,
   "id": "3ca1e821-3538-4fea-ae84-789059cc962d",
   "metadata": {},
   "outputs": [
    {
     "name": "stdout",
     "output_type": "stream",
     "text": [
      "1\n",
      "3\n",
      "5\n",
      "7\n",
      "9\n",
      "11\n",
      "13\n",
      "15\n",
      "17\n",
      "19\n",
      "21\n",
      "23\n",
      "25\n",
      "27\n",
      "29\n",
      "31\n"
     ]
    }
   ],
   "source": [
    "for x in range(0,33):\n",
    "    if x % 2 == 0:\n",
    "        pass\n",
    "    else:\n",
    "        print(x)"
   ]
  },
  {
   "cell_type": "markdown",
   "id": "77f84e1c-b767-428a-b636-f17691eadac5",
   "metadata": {},
   "source": [
    "#### Sum up the odd numbers\n",
    "Make a variable outside the for loop. Inside the loop add the odd numbers to the defined variable. When the loop is done print the sum."
   ]
  },
  {
   "cell_type": "code",
   "execution_count": 7,
   "id": "a1161e3c-adc5-4b6d-a57b-69a7ec5a28cd",
   "metadata": {},
   "outputs": [
    {
     "name": "stdout",
     "output_type": "stream",
     "text": [
      "total sum of odds = 256\n"
     ]
    }
   ],
   "source": [
    "tally = 0\n",
    "for x in range(0,33):\n",
    "    if x % 2 == 0:\n",
    "        pass\n",
    "    else:\n",
    "        tally += x\n",
    "print(f'total sum of odds = {tally}')"
   ]
  },
  {
   "cell_type": "markdown",
   "id": "ef3401f0-cf29-46ea-b6ab-86b5ffa51e88",
   "metadata": {},
   "source": [
    "#### are we sure it's making a sum?\n",
    "Increase your range and see if you get a different result."
   ]
  },
  {
   "cell_type": "code",
   "execution_count": 43,
   "id": "9ed6ebc3-fd15-4f2e-ba47-a17da088c611",
   "metadata": {},
   "outputs": [
    {
     "name": "stdout",
     "output_type": "stream",
     "text": [
      "total sum of odds = 1024\n"
     ]
    }
   ],
   "source": [
    "tally = 0\n",
    "for x in range(0,65):\n",
    "    if x % 2 == 0:\n",
    "        pass\n",
    "    else:\n",
    "        tally += x\n",
    "print(f'total sum of odds = {tally}')"
   ]
  },
  {
   "cell_type": "markdown",
   "id": "7b726c9a-052c-406e-bc6f-6a33231204b0",
   "metadata": {},
   "source": [
    "#### create a random array\n",
    "Using randint from the random library. "
   ]
  },
  {
   "cell_type": "code",
   "execution_count": 10,
   "id": "7819e15e-00ec-4f46-b56d-234635ef8871",
   "metadata": {},
   "outputs": [],
   "source": [
    "import random"
   ]
  },
  {
   "cell_type": "code",
   "execution_count": 11,
   "id": "fe138aaa-9c75-4131-a8a9-4bd099870b41",
   "metadata": {},
   "outputs": [
    {
     "data": {
      "text/plain": [
       "1466"
      ]
     },
     "execution_count": 11,
     "metadata": {},
     "output_type": "execute_result"
    }
   ],
   "source": [
    "random.randint(0,2048)"
   ]
  },
  {
   "cell_type": "code",
   "execution_count": 12,
   "id": "625cc5ec-3678-485f-b324-c556682af633",
   "metadata": {},
   "outputs": [
    {
     "data": {
      "text/plain": [
       "1117"
      ]
     },
     "execution_count": 12,
     "metadata": {},
     "output_type": "execute_result"
    }
   ],
   "source": [
    "random.randint(0,2048)"
   ]
  },
  {
   "cell_type": "markdown",
   "id": "6f8ef9ab-e35e-4cd0-99f7-6d49594fe8e0",
   "metadata": {},
   "source": [
    "create an empty array, validate that it's an array, print the array"
   ]
  },
  {
   "cell_type": "code",
   "execution_count": 13,
   "id": "9dfc89b3-958b-44fd-999c-48156622b798",
   "metadata": {},
   "outputs": [],
   "source": [
    "myarr1 = []"
   ]
  },
  {
   "cell_type": "code",
   "execution_count": 14,
   "id": "5d66f31b-a3e9-4511-8051-a1f50167abea",
   "metadata": {},
   "outputs": [
    {
     "data": {
      "text/plain": [
       "list"
      ]
     },
     "execution_count": 14,
     "metadata": {},
     "output_type": "execute_result"
    }
   ],
   "source": [
    "type(myarr1)"
   ]
  },
  {
   "cell_type": "code",
   "execution_count": 15,
   "id": "7be24560-ca16-4a6b-a1de-d2148af06ac0",
   "metadata": {},
   "outputs": [
    {
     "data": {
      "text/plain": [
       "[]"
      ]
     },
     "execution_count": 15,
     "metadata": {},
     "output_type": "execute_result"
    }
   ],
   "source": [
    "myarr1"
   ]
  },
  {
   "cell_type": "markdown",
   "id": "6f42b995-20ce-4691-8ad5-af605f744a4b",
   "metadata": {},
   "source": [
    "create 32 random numbers in the array"
   ]
  },
  {
   "cell_type": "code",
   "execution_count": 16,
   "id": "b17fd261-9e1c-4d31-93bc-7214d3757d81",
   "metadata": {},
   "outputs": [],
   "source": [
    "for x in range(0,33):\n",
    "    myarr1.append(random.randint(0,2048))"
   ]
  },
  {
   "cell_type": "code",
   "execution_count": 17,
   "id": "62a49c59-4d8b-4449-8b80-e8ad9fd18d3d",
   "metadata": {},
   "outputs": [
    {
     "data": {
      "text/plain": [
       "[342,\n",
       " 1264,\n",
       " 1825,\n",
       " 1613,\n",
       " 863,\n",
       " 977,\n",
       " 665,\n",
       " 1862,\n",
       " 673,\n",
       " 0,\n",
       " 1380,\n",
       " 1778,\n",
       " 416,\n",
       " 1880,\n",
       " 289,\n",
       " 49,\n",
       " 55,\n",
       " 1924,\n",
       " 1524,\n",
       " 1866,\n",
       " 1280,\n",
       " 528,\n",
       " 718,\n",
       " 1705,\n",
       " 321,\n",
       " 31,\n",
       " 1577,\n",
       " 1089,\n",
       " 776,\n",
       " 720,\n",
       " 1247,\n",
       " 1576,\n",
       " 882]"
      ]
     },
     "execution_count": 17,
     "metadata": {},
     "output_type": "execute_result"
    }
   ],
   "source": [
    "myarr1"
   ]
  },
  {
   "cell_type": "markdown",
   "id": "dcdcd96c-c734-46d4-87f2-fe0a1ecc7734",
   "metadata": {},
   "source": [
    "add another 32 random numbers to the array using pythonic syntax\n",
    "Note the output is None because we didn't ask it to print the numbers, but it set the numbers in the array."
   ]
  },
  {
   "cell_type": "code",
   "execution_count": 18,
   "id": "e4d52172-c3b8-4cf6-a3fa-1082872b6ac8",
   "metadata": {},
   "outputs": [
    {
     "data": {
      "text/plain": [
       "[None,\n",
       " None,\n",
       " None,\n",
       " None,\n",
       " None,\n",
       " None,\n",
       " None,\n",
       " None,\n",
       " None,\n",
       " None,\n",
       " None,\n",
       " None,\n",
       " None,\n",
       " None,\n",
       " None,\n",
       " None,\n",
       " None,\n",
       " None,\n",
       " None,\n",
       " None,\n",
       " None,\n",
       " None,\n",
       " None,\n",
       " None,\n",
       " None,\n",
       " None,\n",
       " None,\n",
       " None,\n",
       " None,\n",
       " None,\n",
       " None,\n",
       " None,\n",
       " None]"
      ]
     },
     "execution_count": 18,
     "metadata": {},
     "output_type": "execute_result"
    }
   ],
   "source": [
    "[myarr1.append(random.randint(0,2048)) for x in range(0,33)]"
   ]
  },
  {
   "cell_type": "markdown",
   "id": "bafd88b9-d599-4c3a-822f-9c3d12414c09",
   "metadata": {},
   "source": [
    "print the array using pythonic syntax"
   ]
  },
  {
   "cell_type": "code",
   "execution_count": 19,
   "id": "fe1db120-d19e-4fc5-a110-7cb1302676d2",
   "metadata": {},
   "outputs": [
    {
     "data": {
      "text/plain": [
       "[342,\n",
       " 1264,\n",
       " 1825,\n",
       " 1613,\n",
       " 863,\n",
       " 977,\n",
       " 665,\n",
       " 1862,\n",
       " 673,\n",
       " 0,\n",
       " 1380,\n",
       " 1778,\n",
       " 416,\n",
       " 1880,\n",
       " 289,\n",
       " 49,\n",
       " 55,\n",
       " 1924,\n",
       " 1524,\n",
       " 1866,\n",
       " 1280,\n",
       " 528,\n",
       " 718,\n",
       " 1705,\n",
       " 321,\n",
       " 31,\n",
       " 1577,\n",
       " 1089,\n",
       " 776,\n",
       " 720,\n",
       " 1247,\n",
       " 1576,\n",
       " 882,\n",
       " 1900,\n",
       " 1242,\n",
       " 182,\n",
       " 872,\n",
       " 1848,\n",
       " 255,\n",
       " 206,\n",
       " 865,\n",
       " 138,\n",
       " 98,\n",
       " 849,\n",
       " 54,\n",
       " 588,\n",
       " 682,\n",
       " 1039,\n",
       " 380,\n",
       " 1526,\n",
       " 417,\n",
       " 554,\n",
       " 1021,\n",
       " 312,\n",
       " 1680,\n",
       " 1578,\n",
       " 1174,\n",
       " 1551,\n",
       " 1977,\n",
       " 1251,\n",
       " 1454,\n",
       " 307,\n",
       " 459,\n",
       " 1839,\n",
       " 1315,\n",
       " 954]"
      ]
     },
     "execution_count": 19,
     "metadata": {},
     "output_type": "execute_result"
    }
   ],
   "source": [
    "[x for x in myarr1]"
   ]
  },
  {
   "cell_type": "markdown",
   "id": "7273ac73-0844-4307-b4e1-23b5920b7dc4",
   "metadata": {},
   "source": [
    "print any number in the array that is greater than or equal to the variable mynum"
   ]
  },
  {
   "cell_type": "code",
   "execution_count": 20,
   "id": "99592cd5-c3da-49d2-98b3-49ff71ed4829",
   "metadata": {},
   "outputs": [],
   "source": [
    "mynum = 1024"
   ]
  },
  {
   "cell_type": "code",
   "execution_count": 22,
   "id": "ade411c4-ecc9-4442-8c5c-a71ba0ebe68a",
   "metadata": {},
   "outputs": [
    {
     "name": "stdout",
     "output_type": "stream",
     "text": [
      "1264\n",
      "1825\n",
      "1613\n",
      "1862\n",
      "1380\n",
      "1778\n",
      "1880\n",
      "1924\n",
      "1524\n",
      "1866\n",
      "1280\n",
      "1705\n",
      "1577\n",
      "1089\n",
      "1247\n",
      "1576\n",
      "1900\n",
      "1242\n",
      "1848\n",
      "1039\n",
      "1526\n",
      "1680\n",
      "1578\n",
      "1174\n",
      "1551\n",
      "1977\n",
      "1251\n",
      "1454\n",
      "1839\n",
      "1315\n"
     ]
    }
   ],
   "source": [
    "for x in range(0,len(myarr1)):\n",
    "    if myarr1[x] >= mynum:\n",
    "        print(myarr1[x])"
   ]
  },
  {
   "cell_type": "markdown",
   "id": "e46015af-7de6-49e4-9834-c3f5cf60673e",
   "metadata": {},
   "source": [
    "count how many numbers in the array are greater than or equal to mynum"
   ]
  },
  {
   "cell_type": "code",
   "execution_count": 24,
   "id": "b57fc006-90da-40f5-91a8-766eb7163755",
   "metadata": {},
   "outputs": [
    {
     "name": "stdout",
     "output_type": "stream",
     "text": [
      "30\n"
     ]
    }
   ],
   "source": [
    "count = 0\n",
    "for x in range(0,len(myarr1)):\n",
    "    if myarr1[x] >= mynum:\n",
    "        count += 1\n",
    "print(count)"
   ]
  },
  {
   "cell_type": "markdown",
   "id": "9859a6d6-f1ed-4e04-873d-cca36b4a8fe9",
   "metadata": {},
   "source": [
    "create a new array with only values that are greater than or equal to mynum"
   ]
  },
  {
   "cell_type": "code",
   "execution_count": 25,
   "id": "e6c6e45b-7120-4292-83ac-bc4cf92502ac",
   "metadata": {},
   "outputs": [
    {
     "name": "stdout",
     "output_type": "stream",
     "text": [
      "[1264, 1825, 1613, 1862, 1380, 1778, 1880, 1924, 1524, 1866, 1280, 1705, 1577, 1089, 1247, 1576, 1900, 1242, 1848, 1039, 1526, 1680, 1578, 1174, 1551, 1977, 1251, 1454, 1839, 1315]\n"
     ]
    }
   ],
   "source": [
    "myarr2 = []\n",
    "for x in range(0,len(myarr1)):\n",
    "    if myarr1[x] >= mynum:\n",
    "        myarr2.append(myarr1[x])\n",
    "print(myarr2)"
   ]
  },
  {
   "cell_type": "markdown",
   "id": "b41fb2f8-a61e-48fa-b901-51cfc3e9c7e0",
   "metadata": {},
   "source": [
    "verify there are no numbers in the new array less than or equal to mynum"
   ]
  },
  {
   "cell_type": "code",
   "execution_count": 26,
   "id": "ec703d8c-c440-43a8-bbe8-d36a70a1df17",
   "metadata": {},
   "outputs": [
    {
     "name": "stdout",
     "output_type": "stream",
     "text": [
      "0\n"
     ]
    }
   ],
   "source": [
    "count = 0\n",
    "for x in range(0,len(myarr2)):\n",
    "    if myarr2[x] <= mynum:\n",
    "        count += 1\n",
    "print(count)"
   ]
  },
  {
   "cell_type": "markdown",
   "id": "7d8ad0a0-c45b-4c9f-92cc-2d0e3642753c",
   "metadata": {},
   "source": [
    "count how many values are in the new array"
   ]
  },
  {
   "cell_type": "code",
   "execution_count": 27,
   "id": "95051cfb-e2a8-4ee8-bc93-a346c85e056f",
   "metadata": {},
   "outputs": [
    {
     "name": "stdout",
     "output_type": "stream",
     "text": [
      "30\n"
     ]
    }
   ],
   "source": [
    "print(len(myarr2))"
   ]
  },
  {
   "cell_type": "markdown",
   "id": "af3cbca0-e7c7-4eb8-867c-de82b4dd08ce",
   "metadata": {},
   "source": [
    "inside this REPL you don't need to use print() to get the length of an array"
   ]
  },
  {
   "cell_type": "code",
   "execution_count": 28,
   "id": "422a147a-7d20-4381-b3d0-b0fa553deebd",
   "metadata": {},
   "outputs": [
    {
     "data": {
      "text/plain": [
       "66"
      ]
     },
     "execution_count": 28,
     "metadata": {},
     "output_type": "execute_result"
    }
   ],
   "source": [
    "len(myarr1)"
   ]
  },
  {
   "cell_type": "code",
   "execution_count": 29,
   "id": "b3fda5d4-efd2-4a42-9a39-5faa6a56be3a",
   "metadata": {},
   "outputs": [
    {
     "data": {
      "text/plain": [
       "30"
      ]
     },
     "execution_count": 29,
     "metadata": {},
     "output_type": "execute_result"
    }
   ],
   "source": [
    "len(myarr2)"
   ]
  },
  {
   "cell_type": "markdown",
   "id": "c22007d1-e239-4064-8a1a-11670026d30e",
   "metadata": {},
   "source": [
    "In python you can set multiple variables on one line. Each variable on the left gets set to it's corresponding value to the right."
   ]
  },
  {
   "cell_type": "code",
   "execution_count": 30,
   "id": "dc4f8b3e-f032-47e8-9f13-a0b0bb8db862",
   "metadata": {},
   "outputs": [],
   "source": [
    "loop,total,maxint,minint = 0,0,'',''"
   ]
  },
  {
   "cell_type": "markdown",
   "id": "9dd61c5f-3658-48dd-ac4d-599d4f4f575c",
   "metadata": {},
   "source": [
    "#### print min, max, and average of an array\n",
    "integer for avg when using two // for division"
   ]
  },
  {
   "cell_type": "code",
   "execution_count": 35,
   "id": "e4a4dc21-b06b-45b9-9224-cf724f8183d8",
   "metadata": {},
   "outputs": [
    {
     "name": "stdout",
     "output_type": "stream",
     "text": [
      "maxint is 1977, minint is 0, average = 973\n"
     ]
    }
   ],
   "source": [
    "while loop < len(myarr1):\n",
    "    if maxint == '':\n",
    "        maxint = myarr1[loop]\n",
    "    if minint == '':\n",
    "        minint = myarr1[loop]\n",
    "    num = myarr1[loop]\n",
    "    total += num\n",
    "    # start evalutation\n",
    "    if num > maxint:\n",
    "        maxint = num\n",
    "    if num < minint:\n",
    "        minint = num\n",
    "    loop += 1\n",
    "avg = total // len(myarr1)\n",
    "print(f'maxint is {maxint}, minint is {minint}, average = {avg}')"
   ]
  },
  {
   "cell_type": "markdown",
   "id": "02eace7d-c5df-4779-bebb-7d33d364080c",
   "metadata": {},
   "source": [
    "for a floating point number use a single / for division"
   ]
  },
  {
   "cell_type": "code",
   "execution_count": 36,
   "id": "9b1a19bc-53b6-4f75-af67-9e9de917c1f5",
   "metadata": {},
   "outputs": [
    {
     "name": "stdout",
     "output_type": "stream",
     "text": [
      "maxint is 1977, minint is 0, average = 973.6666666666666\n"
     ]
    }
   ],
   "source": [
    "while loop < len(myarr1):\n",
    "    if maxint == '':\n",
    "        maxint = myarr1[loop]\n",
    "    if minint == '':\n",
    "        minint = myarr1[loop]\n",
    "    num = myarr1[loop]\n",
    "    total += num\n",
    "    # start evalutation\n",
    "    if num > maxint:\n",
    "        maxint = num\n",
    "    if num < minint:\n",
    "        minint = num\n",
    "    loop += 1\n",
    "avg = total / len(myarr1)\n",
    "print(f'maxint is {maxint}, minint is {minint}, average = {avg}')"
   ]
  },
  {
   "cell_type": "markdown",
   "id": "96696443-76dd-4b06-aae7-b2a202ff3344",
   "metadata": {},
   "source": [
    "does the value '0' actually exist in the array?"
   ]
  },
  {
   "cell_type": "code",
   "execution_count": 50,
   "id": "de775f7a-5279-4245-84cf-39626c345c84",
   "metadata": {},
   "outputs": [
    {
     "name": "stdout",
     "output_type": "stream",
     "text": [
      "Array value is not equal to zero\n",
      "Array value is not equal to zero\n",
      "Array value is not equal to zero\n",
      "Array value is not equal to zero\n",
      "Array value is not equal to zero\n",
      "Array value is not equal to zero\n",
      "Array value is not equal to zero\n",
      "Array value is not equal to zero\n",
      "Array value is not equal to zero\n",
      "Found it: 0\n",
      "Array value is not equal to zero\n",
      "Array value is not equal to zero\n",
      "Array value is not equal to zero\n",
      "Array value is not equal to zero\n",
      "Array value is not equal to zero\n",
      "Array value is not equal to zero\n",
      "Array value is not equal to zero\n",
      "Array value is not equal to zero\n",
      "Array value is not equal to zero\n",
      "Array value is not equal to zero\n",
      "Array value is not equal to zero\n",
      "Array value is not equal to zero\n",
      "Array value is not equal to zero\n",
      "Array value is not equal to zero\n",
      "Array value is not equal to zero\n",
      "Array value is not equal to zero\n",
      "Array value is not equal to zero\n",
      "Array value is not equal to zero\n",
      "Array value is not equal to zero\n",
      "Array value is not equal to zero\n",
      "Array value is not equal to zero\n",
      "Array value is not equal to zero\n",
      "Array value is not equal to zero\n",
      "Array value is not equal to zero\n",
      "Array value is not equal to zero\n",
      "Array value is not equal to zero\n",
      "Array value is not equal to zero\n",
      "Array value is not equal to zero\n",
      "Array value is not equal to zero\n",
      "Array value is not equal to zero\n",
      "Array value is not equal to zero\n",
      "Array value is not equal to zero\n",
      "Array value is not equal to zero\n",
      "Array value is not equal to zero\n",
      "Array value is not equal to zero\n",
      "Array value is not equal to zero\n",
      "Array value is not equal to zero\n",
      "Array value is not equal to zero\n",
      "Array value is not equal to zero\n",
      "Array value is not equal to zero\n",
      "Array value is not equal to zero\n",
      "Array value is not equal to zero\n",
      "Array value is not equal to zero\n",
      "Array value is not equal to zero\n",
      "Array value is not equal to zero\n",
      "Array value is not equal to zero\n",
      "Array value is not equal to zero\n",
      "Array value is not equal to zero\n",
      "Array value is not equal to zero\n",
      "Array value is not equal to zero\n",
      "Array value is not equal to zero\n",
      "Array value is not equal to zero\n",
      "Array value is not equal to zero\n",
      "Array value is not equal to zero\n",
      "Array value is not equal to zero\n",
      "Array value is not equal to zero\n"
     ]
    }
   ],
   "source": [
    "for x in range(0,len(myarr1)):\n",
    "    if myarr1[x] == 0:\n",
    "        print('Found it:',myarr1[x])\n",
    "    else:\n",
    "        print('Array value is not equal to zero')"
   ]
  },
  {
   "cell_type": "markdown",
   "id": "26dd094b-c036-49f3-97f8-8d806f7d30b8",
   "metadata": {},
   "source": [
    "That's a lot of output. How should we validate every item in the array but only print out if we do find zero?"
   ]
  },
  {
   "cell_type": "code",
   "execution_count": 46,
   "id": "5b35b739-161e-45d3-91e2-f4767d95cbe9",
   "metadata": {},
   "outputs": [
    {
     "name": "stdout",
     "output_type": "stream",
     "text": [
      "We found a zero in the array!\n"
     ]
    }
   ],
   "source": [
    "foundit = 'No zero in this array.'\n",
    "for x in range(0,len(myarr1)):\n",
    "    if myarr1[x] == 0:\n",
    "        foundit = 'We found a zero in the array!'\n",
    "print(foundit)"
   ]
  },
  {
   "cell_type": "code",
   "execution_count": 47,
   "id": "19ceabb4-5ac2-4cbd-a3e8-639f96580ff9",
   "metadata": {},
   "outputs": [
    {
     "name": "stdout",
     "output_type": "stream",
     "text": [
      "No zero in this array.\n"
     ]
    }
   ],
   "source": [
    "foundit = 'No zero in this array.'\n",
    "for x in range(0,len(myarr2)):\n",
    "    if myarr2[x] == 0:\n",
    "        foundit = 'We found a zero in the array!'\n",
    "print(foundit)"
   ]
  },
  {
   "cell_type": "code",
   "execution_count": null,
   "id": "04e63f9e-2c48-41f4-b3ed-820d7cdd1d71",
   "metadata": {},
   "outputs": [],
   "source": []
  }
 ],
 "metadata": {
  "kernelspec": {
   "display_name": "Python 3 (ipykernel)",
   "language": "python",
   "name": "python3"
  },
  "language_info": {
   "codemirror_mode": {
    "name": "ipython",
    "version": 3
   },
   "file_extension": ".py",
   "mimetype": "text/x-python",
   "name": "python",
   "nbconvert_exporter": "python",
   "pygments_lexer": "ipython3",
   "version": "3.13.3"
  }
 },
 "nbformat": 4,
 "nbformat_minor": 5
}
